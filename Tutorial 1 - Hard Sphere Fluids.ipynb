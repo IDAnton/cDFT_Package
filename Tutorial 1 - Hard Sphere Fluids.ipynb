{
 "cells": [
  {
   "cell_type": "markdown",
   "metadata": {},
   "source": [
    "<center><h1>Tutorial 1 - Hard-Sphere Fluids </h1>\n",
    "<br>Mary K. Coe <br>\n",
    "23 Oct 2021</center>\n",
    "\n",
    "By the end of this tutorial you will be able to\n",
    "    - Obtain the equilibrium density profile of a hard-sphere fluid in contact with a wall, solute or confined in a slit.\n",
    "    - Plot this density profile.\n",
    "    - Determine the numerical consistency of the density profile using two sum rules.\n"
   ]
  },
  {
   "cell_type": "markdown",
   "metadata": {},
   "source": [
    "<h3>Introduction</h3>\n",
    "This tutorial assumes that you already have a general understanding of what classical density functional theory (cDFT) is and how it works. If this is not the case, then it is recommended you check out the following references\n",
    "\n",
    "<a href = \"https://doi.org/10.1080/00018737900101365\"> R. Evans, Advances in Physics <b>28</b>, 143-200 (1979)</a> - This is a famous review article by Prof Bob Evans which covers most of the maths behind cDFT.\n",
    "\n",
    "<a href=\"https://doi.org/10.1088/0953-8984/22/6/063102\">R Roth, J. Phys.:Condens. Matter <b>22</b>, 0631102 (2010)</a> - This is a review article by Prof Roland Roth which covers the theory and implementation of Fundamental Measure Theory (FMT). This also describes all functionals available within the package.\n",
    "\n",
    <a href = https://research-information.bris.ac.uk/ws/portalfiles/portal/304220732/Thesis_Mary_Coe.pdf>"M. K. Coe, \"Hydrophobicity across length scales: The role of surface criticality\", PhD thesis, (University of Bristol, 2021)</a> - My thesis. Chapter 4 as well as Appendices A-C cover the implementation of cDFT within this package in depth.\n",
    "\n",
    "Within this tutorial, you will learn how to use the cDFT package to find the equilibrium density profiles of one-component hard-sphere fluids in contact with hard planar walls, hard spherical walls (or solutes) and confined to a slit with hard walls. This package implements cDFT as described in the articles by Evans and Roth, using Rosenfeld's FMT to describe the excess Helmholtz free energy of the hard-sphere fluid. This package supports three functionals - the original <a href = \"https://doi.org/10.1103/PhysRevLett.63.980\">Rosenfeld functional</a>, the <a href=\"https://doi.org/10.1088/0953-8984/14/46/313\">White-Bear functional</a> and the <a href=\"https://doi.org/10.1088/0953-8984/18/37/002\">White-Bear Mark II functional</a>. Within this tutorial, we will cover each of these.\n",
    "\n",
    "In addition to a basic knowledge of cDFT, you will need a Python installation with the standard libraries, as well as the <i>NumPy</i>, <i>SciPy</i>, <i>Matplotlib</i> and <i>pyfftw</i> libraries. The latter of these is the python wrapper for the fast fourier transforms library, FFTW. \n",
    "\n",
    "<b>Warning</b> - I have noticed that pyfftw does not respect core allocation on nodes on a cluster. For example, if you request one core on one node, pyfftw appears to automatically use all cores within the node. If using the package on a cluster, it is therefore recommended you run it using mpiexec or equivalent, to force it to use only the requested number of cores.\n",
    "\n",
    "With this in mind, we begin the tutorial by importing necessary libraries."
   ]
  },
  {
   "cell_type": "code",
   "execution_count": 1,
   "metadata": {},
   "outputs": [],
   "source": [
    "# Import necessary libraries for tutorial\n",
    "import numpy as np\n",
    "\n",
    "import matplotlib.pyplot as plt\n",
    "import matplotlib.colors"
   ]
  },
  {
   "cell_type": "markdown",
   "metadata": {},
   "source": [
    "<h3>Package Layout</h3>\n",
    "\n",
    "The cDFT package consists of six modules. Of these, only two need actually be called in order to perform cDFT - all others are for internal operations and therefore are likely only of interest to developers.\n",
    "\n",
    "The two modules used regularly when performing cDFT are <i>cDFT.minimisation</i> and <i>cDFT.measures</i>. The first of these holds objects specifically relating to the minimisation procedure, whilst the second contains measures which may be of interest, such as the surface tension and grand potential. It should be noted that many of the measures of interest can actually be calculated during the minimisation procedure by supplying various flags to the minimisation objects. These will be introduced throughout these tutorials.\n",
    "\n",
    "The <i>cDFT.minimisation</i> modules contains four objects which control various aspects of the cDFT minimisation procedure. These are split into geometry-specifc objects, which control whether a planar wall, spherical wall or slit should be considered, and a non-geometry specific object, <i>cDFT.minimisation.DFT</i>, which controls fluid and grid parameters. The general procedure is to define a <i>cDFT.minimisation.DFT</i> and then supply this to a geometry -specific object (<i>cDFT.minimisation.planar</i>,<i>cDFT.minimisation.spherical</i> or <i>cDFT.minimisation.slit</i>). These latter objects contain <i>minimise</i> methods which allow for the equilibrium density profile to be found.\n",
    "\n",
    "This tutorial is set out as follows. Firstly, we consider a hard-sphere fluid in contact with a planar hard wall and investigate the functionals available. We then consider spherical hard walls of various radii, before finally studying a hard-sphere fluid within a slit. <b>It should be noted that this package only supports one-component fluids and smooth walls.</b> This allows it to be efficient, as the equilibrium density profile will vary along only one axis and hence only a one-dimensional grid is required. For more information, see <a href=\"https://doi.org/10.1088/0953-8984/22/6/063102\">R Roth, J. Phys.:Condens. Matter <b>22</b>, 0631102 (2010)</a>."
   ]
  },
  {
   "cell_type": "markdown",
   "metadata": {},
   "source": [
    "<h3>How to Read the Output Files</h3>\n",
    "\n",
    "Whenever you call the <i>minimise</i> method (see below), an output file will be generated and saved. By default, this is saved to a folder called <i>cDFT_Results</i> however you can specify the desired output folder using the <i>file_path</i> parameter, available for all geometries discussed below. The name of the output file takes the form: \n",
    "\n",
    "(geometry abbreviation)(wall type(s))\\_(fluid type)\\_(radius of wall if applicable)\\_(bulk density)\\_(temperature)\\_(hard-sphere functional abbreviation)\n",
    "\n",
    "The geometry abbreviations are <i>P</i> for a planar wall, <i>S</i> for a spherical wall (solute) and <i>SL</i> for a slit. All other abbreviations are explained as you progress through the tutorials.\n",
    "\n",
    "The output file is structured as follows:\n",
    "\n",
    "<b>Header</b> - The header to the output file contains information about the system such as the geometry, the temperature (T), density, grid size in units of fluid particle diameters (L), number of grid points (N), distance between grid points in units of fluid particle diameters (dr) and more. \n",
    "\n",
    "<b>Profile</b> - After the header, the equilibrium profile is printed. This is structured as grid_point (i) physical distance (r) density (rho) density scaled by bulk density (rho/rho_b). \n",
    "\n",
    "<b>Footer</b> - After the profile, the results of the adsorption sum rule (explained below) are printed. Any other measures you call to be output to file will also go here.\n",
    "\n",
    "Other outputs will be explained throughout these tutorials."
   ]
  },
  {
   "cell_type": "markdown",
   "metadata": {},
   "source": [
    "<h3>Planar Hard Wall </h3>\n",
    "We begin by defining the non-geometry specific object. This takes a minimimum of three arguments - the density of the hard-sphere fluid in the bulk (<i>bulk_density</i>), the temperature (<i>temperature</i>) and the fluid type (<i>fluid_type</i>). Within this tutorial, the latter with be a hard-sphere fluid, <b>fluid_type = 'HS'</b>. The temperature has no physical meaning within a hard-sphere fluid, so will be set to <b>temperature = 1.0</b>. Rather than density, it is more convenient to work with packing fractions with hard-sphere fluids, hence the function <i>density_from_packing_fraction</i> is supplied. Using these we then define the non-geometry specfic <i>DFT</i> object."
   ]
  },
  {
   "cell_type": "code",
   "execution_count": 2,
   "metadata": {},
   "outputs": [],
   "source": [
    "import cDFT.minimisation as minimise\n",
    "\n",
    "def density_from_packing_fraction(packing_fraction):\n",
    "    \"\"\"\n",
    "    Calculates the density of a hard-sphere fluid from\n",
    "    the packing fraction.\n",
    "    \n",
    "    Args:\n",
    "        packing_fraction(float): hard-sphere fluid packing fraction\n",
    "    Returns:\n",
    "        density(float): density of hard-sphere fluid\n",
    "    \"\"\"\n",
    "    \n",
    "    # Note that the diameter of a fluid particle is\n",
    "    # set to 1.0\n",
    "    density = 6.*packing_fraction/np.pi\n",
    "    \n",
    "    return density\n",
    "\n",
    "# Calculate the density of a hard-sphere fluid with\n",
    "# packing fraction 0.2\n",
    "density = density_from_packing_fraction(0.2)\n",
    "\n",
    "# Define a DFT object\n",
    "DFT = minimise.DFT( bulk_density=density,\n",
    "                    temperature=1.0,\n",
    "                    fluid_type='HS')"
   ]
  },
  {
   "cell_type": "markdown",
   "metadata": {},
   "source": [
    "At any point we can check the parameters using the <i>information</i> method."
   ]
  },
  {
   "cell_type": "code",
   "execution_count": 3,
   "metadata": {},
   "outputs": [
    {
     "name": "stdout",
     "output_type": "stream",
     "text": [
      "Fluid type: hard-sphere\n",
      "Temperature: 1.0\n",
      "Density of bulk fluid: 0.3819718634205489\n",
      "Functional: Rosenfeld\n",
      "Length of grid: 50.0 * diameter of a fluid particle\n",
      "Distance between grid points: 0.001 * diameter of a fluid particle\n"
     ]
    }
   ],
   "source": [
    "DFT.information()"
   ]
  },
  {
   "cell_type": "markdown",
   "metadata": {},
   "source": [
    "From this we can also see other parameters which can be set. These are the functional (<i>functional =</i>), the length of the grid (<i>L =</i>) and the distance between the grid points, or the discretisation (<i>dr</i>). We'll return to these later. \n",
    "\n",
    "We then define our geometry specfic object. Within this section, this is the <i>planar</i> object. It takes a minimum of two arguments - a DFT object (<i>cDFT = </i>) and a wall type (<i>wall_type =</i>). We will consider a hard wall (<b>wall_type = 'HW'</b>)."
   ]
  },
  {
   "cell_type": "code",
   "execution_count": 4,
   "metadata": {},
   "outputs": [],
   "source": [
    "planar = minimise.planar(cDFT=DFT,\n",
    "                         wall_type='HW')"
   ]
  },
  {
   "cell_type": "markdown",
   "metadata": {},
   "source": [
    "Again, if we want to check the paramaters of our object at any time, we can use the <i>information</i> method."
   ]
  },
  {
   "cell_type": "code",
   "execution_count": 5,
   "metadata": {},
   "outputs": [
    {
     "name": "stdout",
     "output_type": "stream",
     "text": [
      "Geometry: Planar Wall\n",
      "Wall type: Hard Wall\n",
      "Picard mixing parameter: 0.1\n",
      "Ng move frequency: 10 picard moves\n",
      "Output local compressibility: False\n",
      "Output local thermal susceptibility: False\n"
     ]
    }
   ],
   "source": [
    "planar.information()"
   ]
  },
  {
   "cell_type": "markdown",
   "metadata": {},
   "source": [
    "This also shows other parameters which can be set. The middle two of these, 'Picard mixing parameter' and 'Ng move frequency' relate to the methods used within the package when updating the density profile during the minimisation procedure. The default arguments will normally suffice for a hard-sphere fluid - the exception to this is for very dense packing fractions which will be discussed later. The latter two parameters will be discussed in Tutorial 3. \n",
    "\n",
    "To find the equilibrium density profile, we use the <i>minimise<i/> method."
   ]
  },
  {
   "cell_type": "code",
   "execution_count": 6,
   "metadata": {},
   "outputs": [
    {
     "name": "stdout",
     "output_type": "stream",
     "text": [
      "Convergence achieved in 76 attempts.\n"
     ]
    }
   ],
   "source": [
    "planar.minimise()"
   ]
  },
  {
   "cell_type": "markdown",
   "metadata": {},
   "source": [
    "The method minimises the grand potential of the fluid to its equilibrium value using the method outlined in the Introduction. We can then visualise the profile using the <i>plot</i> method."
   ]
  },
  {
   "cell_type": "code",
   "execution_count": 7,
   "metadata": {},
   "outputs": [
    {
     "data": {
      "image/png": "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\n",
      "text/plain": [
       "<Figure size 432x288 with 1 Axes>"
      ]
     },
     "metadata": {
      "needs_background": "light"
     },
     "output_type": "display_data"
    }
   ],
   "source": [
    "planar.plot()    "
   ]
  },
  {
   "cell_type": "markdown",
   "metadata": {},
   "source": [
    "Here we have plotted in relation to the bulk density. This can be accessed using <i>planar.DFT.bulk_density</i>.\n",
    "\n",
    "The numerical consistency of the procedure can be checked using statistical mechanics sum rules. These are formally exact equations which relate microscopic and macroscopic properties of a system. The cDFT package implements two sum rules - the adsorption sum rule and the contact theorem sum rule, see section 4.1.5 of my thesis (link to be added when available) for more details. It does so by calculating either side of the equation separately, and then comparing them to find the relative error. If the minimisation is numerically consistent, this error should be small.\n",
    "\n",
    "The appropriate form of the contact theorem can be accessed using the <i>contact_sum_rule</i> method."
   ]
  },
  {
   "cell_type": "code",
   "execution_count": 8,
   "metadata": {},
   "outputs": [
    {
     "name": "stdout",
     "output_type": "stream",
     "text": [
      "\n",
      "--------------------------------------------\n",
      "Contact Sum Rule Results:\n",
      "pressure = 0.9250881067\n",
      "kbT*rho(0) = 0.9250876743\n",
      "Relative Error = 0.0000004674\n",
      "--------------------------------------------\n",
      "\n"
     ]
    }
   ],
   "source": [
    "planar.contact_sum_rule()"
   ]
  },
  {
   "cell_type": "markdown",
   "metadata": {},
   "source": [
    "The relative error here for a packing fraction of 0.2 and default grid parameters should be in the region of the seventh decimal place. This shows that the minimisation procedure obeyed the sum rule. (Note - the lines above the relative error relate to the variables on either side of the sum rule. More details can be found in my thesis).\n",
    "\n",
    "The adsorption sum rule can be accessed using the <i>adsorption_sum_rule</i> method."
   ]
  },
  {
   "cell_type": "code",
   "execution_count": 9,
   "metadata": {},
   "outputs": [
    {
     "name": "stdout",
     "output_type": "stream",
     "text": [
      "\n",
      "--------------------------------------------\n",
      "Adsorption Sum Rule Results:\n",
      "Gamma/A = 0.0860102439\n",
      "-dgamma/dmu = 0.0863166786\n",
      "Relative error = 0.0035627703\n",
      "--------------------------------------------\n"
     ]
    }
   ],
   "source": [
    "planar.adsorption_sum_rule()"
   ]
  },
  {
   "cell_type": "markdown",
   "metadata": {},
   "source": [
    "This sum rule is also obeyed however features a larger relative error. This is due to the numerical derivative required during its evaluation. In general, for the default parameters, this sum rule should be obeyed to three decimal places.\n",
    "\n",
    "As mentioned above, the package supports three functionals - Rosenfeld (RF), White-Bear (WB) and White-Bear Mark II (WBII). At low packing fractions, these give near identical equilibrium density profiles. The same is not true for high packing fractions near to the freezing transition. This is due to the different equations of state underlying each functional - see the references above for more details. We can see these differences clearly for a packing fraction of 0.42. For such a dense fluid, the default Picard mixing and Ng move frequency will cause the minimisation procedure to overshoot and oscillate. To ensure stability, it is therefore necessary to reduce the former and increase the latter. Below is a function which compares all functionals available. <b>Note - This code will take approximately an hour to run.</b> "
   ]
  },
  {
   "cell_type": "code",
   "execution_count": 10,
   "metadata": {},
   "outputs": [],
   "source": [
    "def compare_functionals(packing_fraction, picard_mixing = 0.1, ng = 10):\n",
    "    \"\"\"\n",
    "    Compares all functionals available for a given\n",
    "    packing fraction.\n",
    "    \n",
    "    Args:\n",
    "        None\n",
    "    Returns:\n",
    "        None\n",
    "    \"\"\"\n",
    "    # Calculate the density of a hard-sphere fluid\n",
    "    density = density_from_packing_fraction(packing_fraction)\n",
    "\n",
    "    # Define functionals\n",
    "    RF = minimise.DFT(bulk_density=density, temperature=1.0, fluid_type='HS', functional = 'RF')\n",
    "    WB = minimise.DFT(bulk_density=density, temperature=1.0, fluid_type='HS', functional = 'WB')\n",
    "    WBII = minimise.DFT(bulk_density=density, temperature=1.0, fluid_type='HS', functional = 'WBII')\n",
    "    \n",
    "    # Define geometry\n",
    "    planar_RF = minimise.planar(RF, wall_type = 'HW', alpha = picard_mixing, ng = ng)\n",
    "    planar_WB = minimise.planar(WB, wall_type = 'HW', alpha = picard_mixing, ng = ng)\n",
    "    planar_WBII = minimise.planar(WBII, wall_type = 'HW', alpha = picard_mixing, ng = ng)\n",
    "    \n",
    "    # Find equilibrium profile\n",
    "    planar_RF.minimise()\n",
    "    planar_WB.minimise()\n",
    "    planar_WBII.minimise()\n",
    "    \n",
    "    # Plot\n",
    "    z, RF_density = planar_RF.equilibrium_profile()\n",
    "    z, WB_density = planar_WB.equilibrium_profile()\n",
    "    z, WBII_density = planar_WBII.equilibrium_profile()\n",
    "    \n",
    "    fig = plt.figure()\n",
    "    ax_main = fig.add_subplot(111)\n",
    "    ax_inset = ax_main.inset_axes([0.55,0.55,0.4,0.4], \n",
    "                                 transform = ax_main.transAxes)\n",
    "    \n",
    "    L = int(0.2*planar.DFT.L/planar.DFT.dr)\n",
    "    ax_main.plot(z[:L], RF_density[:L]/density, color = 'steelblue',\n",
    "                label = 'Rosenfeld', ls='solid')\n",
    "    ax_main.plot(z[:L], WB_density[:L]/density, color = 'palevioletred',\n",
    "                label = 'White-Bear', ls='dashed')\n",
    "    ax_main.plot(z[:L], WBII_density[:L]/density, color = 'rosybrown',\n",
    "                label = 'White-Bear Mark II', ls='dotted')\n",
    "    \n",
    "    contact = 0.5*np.ceil(RF_density[0]/(density*0.5))\n",
    "    ax_main.set_xlim(0.0,z[L])\n",
    "    ax_main.set_ylim(0.0,contact)\n",
    "    ax_main.tick_params(right=True, top=True, direction='in')\n",
    "    ax_main.set_xlabel(r'$z/\\sigma$')\n",
    "    ax_main.set_ylabel(r'$\\rho(z)/\\rho_b$')\n",
    "    ax_main.legend(loc = 'upper left', frameon = False)\n",
    "    \n",
    "    L = int(0.001*planar.DFT.L/planar.DFT.dr)\n",
    "    ax_inset.plot(z[:L], RF_density[:L]/density, color = 'steelblue', ls='solid')\n",
    "    ax_inset.plot(z[:L], WB_density[:L]/density, color = 'palevioletred', ls='dashed')\n",
    "    ax_inset.plot(z[:L], WBII_density[:L]/density, color = 'rosybrown', ls='dotted')\n",
    "    \n",
    "    ax_inset.set_xlim(0.0,z[L])\n",
    "    ax_inset.tick_params(right=True, top=True, direction='in')\n",
    "    ax_inset.set_xlabel(r'$z/\\sigma$')\n",
    "    ax_inset.set_ylabel(r'$\\rho(z)/\\rho_b$')\n",
    "\n",
    "#compare_functionals(packing_fraction=0.42, picard_mixing = 0.001, ng = 1000000)"
   ]
  },
  {
   "cell_type": "markdown",
   "metadata": {},
   "source": [
    "It should be further noted that none of these functionals are able to accurately reproduce the freezing transition due to a diverging free energy term in the one-dimensional limit. An accurate description of a hard-sphere crystal in fact requires tensorial weighted densities. These are not supported within the package.  \n",
    "\n",
    "<h3>Spherical Hard Wall (Solute)</h3>\n",
    "Spherical external potentials, or solutes, can be declared using <i>minimise.spherical</i>. Like the <i>minimise.planar</i> object, this takes a <i>minimise.DFT</i> object and <i>wall_type</i> as required arguments. In addition, a radius for the solute, in units of fluid particle diameters, must be supplied (<i>Rs</i>). Rs can take any value larger than 1. Once declared, properties of the object can be viewed using the <i>information</i> method."
   ]
  },
  {
   "cell_type": "code",
   "execution_count": 11,
   "metadata": {},
   "outputs": [
    {
     "name": "stdout",
     "output_type": "stream",
     "text": [
      "Geometry: Spherical Wall\n",
      "Radius: 100.0 * diameter of a fluid particle\n",
      "Wall type: Hard Wall\n",
      "Picard mixing parameter: 0.1\n",
      "Ng move frequency: 10 picard moves\n",
      "Output local compressibility: False\n",
      "Output local thermal susceptibility: False\n"
     ]
    }
   ],
   "source": [
    "solute = minimise.spherical(DFT,\n",
    "                            Rs = 100.0,\n",
    "                            wall_type = 'HW')\n",
    "\n",
    "solute.information()"
   ]
  },
  {
   "cell_type": "markdown",
   "metadata": {},
   "source": [
    "It should be noted that the package defines the density profile from the centre of the fluid particles and the radius of the spherical wall as the first point at which the density profile becomes non-zero. The importance of this will become evident when considering a test particle below. For more information on the system set up please consult my thesis (available December 2021) or <a href = https://doi.org/10.1103/PhysRevE.68.031602>this paper</a>. \n",
    "\n",
    "The equilibrium density profile is found using the <i>minimise</i> method. Once this has been found, the numerical consistency of the minimisation can be tested using the adsorption and contact sum rules. The adsorption sum rule is found in the same way irrespective of wall geometry. In contrast, the contact sum rule is found differently and can in fact take two forms. The package will calculate each of these. For more information on these sum rules, please see this paper."
   ]
  },
  {
   "cell_type": "code",
   "execution_count": 12,
   "metadata": {},
   "outputs": [
    {
     "name": "stdout",
     "output_type": "stream",
     "text": [
      "Convergence achieved in 75 attempts.\n",
      "\n",
      "--------------------------------------------\n",
      "Adsorption Sum Rule Results:\n",
      "Gamma/A = 0.0857785568\n",
      "-dgamma/dmu = 0.0860842336\n",
      "Relative error = 0.0035635575\n",
      "--------------------------------------------\n",
      "\n",
      "----------------------------------------------------\n",
      "Contact Sum Rule A:\n",
      "beta*d(omega)/(dRb) = 115901.5102799497\n",
      "4piRs^2rho(Rs) = 115899.8385251116\n",
      "Relative Error = 0.0000144241\n",
      "\n",
      "Contact Sum Rule B:\n",
      "kbTrho(Rs) = 0.9223016102\n",
      "p + 2gamma/Rs + dgamma/dRs = 0.9222872169\n",
      "Relative Error = 0.0000156059\n",
      "-----------------------------------------------------\n",
      "\n"
     ]
    }
   ],
   "source": [
    "solute.minimise()\n",
    "solute.adsorption_sum_rule()\n",
    "solute.contact_sum_rule()"
   ]
  },
  {
   "cell_type": "markdown",
   "metadata": {},
   "source": [
    "The adsorption sum rule is satisfied to the same precision as in the planar wall case. The agreement in either form of the contact sum rule is not as good as in the planar case, typically only agreeing to five decimal places. This is to be expected due to the necessity to evaluate a numerical derivative.\n",
    "\n",
    "The solute profile can be plotted in much the same way as in the case of a planar wall and takes much the same form."
   ]
  },
  {
   "cell_type": "code",
   "execution_count": 13,
   "metadata": {},
   "outputs": [
    {
     "data": {
      "image/png": "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\n",
      "text/plain": [
       "<Figure size 432x288 with 1 Axes>"
      ]
     },
     "metadata": {
      "needs_background": "light"
     },
     "output_type": "display_data"
    }
   ],
   "source": [
    "solute.plot()"
   ]
  },
  {
   "cell_type": "markdown",
   "metadata": {},
   "source": [
    "The package also supports the study of a hard-sphere test particle. As the density profile is measured from the centre of the fluid particles, the radius of the spherical wall should be set to <i>Rs=1</i> for a test particle. "
   ]
  },
  {
   "cell_type": "code",
   "execution_count": 14,
   "metadata": {},
   "outputs": [
    {
     "name": "stdout",
     "output_type": "stream",
     "text": [
      "Geometry: Spherical Wall\n",
      "Radius: 1.0 * diameter of a fluid particle\n",
      "Wall type: Hard Wall\n",
      "Picard mixing parameter: 0.1\n",
      "Ng move frequency: 10 picard moves\n",
      "Output local compressibility: False\n",
      "Output local thermal susceptibility: False\n",
      "\n",
      "\n",
      "Convergence achieved in 72 attempts.\n",
      "\n",
      "--------------------------------------------\n",
      "Adsorption Sum Rule Results:\n",
      "Gamma/A = 0.0649433777\n",
      "-dgamma/dmu = 0.0652608675\n",
      "Relative error = 0.0048887160\n",
      "--------------------------------------------\n",
      "\n",
      "----------------------------------------------------\n",
      "Contact Sum Rule A:\n",
      "beta*d(omega)/(dRb) = 8.4998489183\n",
      "4piRs^2rho(Rs) = 8.4877784924\n",
      "Relative Error = 0.0014220948\n",
      "\n",
      "Contact Sum Rule B:\n",
      "kbTrho(Rs) = 0.6754359515\n",
      "p + 2gamma/Rs + dgamma/dRs = 0.6742878846\n",
      "Relative Error = 0.0016997420\n",
      "-----------------------------------------------------\n",
      "\n"
     ]
    },
    {
     "data": {
      "image/png": "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\n",
      "text/plain": [
       "<Figure size 432x288 with 1 Axes>"
      ]
     },
     "metadata": {
      "needs_background": "light"
     },
     "output_type": "display_data"
    }
   ],
   "source": [
    "def test_particle():\n",
    "    \"\"\"\n",
    "    Finds the equilibrium density profile of a hard-sphere test particle\n",
    "    for the Rosenfeld functional. Prints the results of the adsorption\n",
    "    and contact sum rules and plots the equilibrium density profile.\n",
    "    \n",
    "    Args:\n",
    "        None\n",
    "    Returns:\n",
    "        None\n",
    "    \"\"\"\n",
    "    # Calculate the density of a hard-sphere fluid with\n",
    "    # packing fraction 0.2\n",
    "    density = density_from_packing_fraction(0.2)\n",
    "\n",
    "    # Define a DFT object\n",
    "    DFT = minimise.DFT(bulk_density=density,\n",
    "                       temperature=1.0,\n",
    "                       fluid_type='HS')\n",
    "    \n",
    "    test_part = minimise.spherical(DFT,\n",
    "                                    Rs=1.0,\n",
    "                                    wall_type = 'HW')\n",
    "    test_part.information()\n",
    "    print(f'\\n')\n",
    "    test_part.minimise()\n",
    "    test_part.plot()\n",
    "    test_part.adsorption_sum_rule()\n",
    "    test_part.contact_sum_rule()\n",
    "  \n",
    "test_particle()"
   ]
  },
  {
   "cell_type": "markdown",
   "metadata": {},
   "source": [
    "The agreement in the sum rules will decrease for the hard-sphere test particle and should all be of order three decimal places.\n",
    "\n",
    "<h3>Slit</h3>\n",
    "The final geometry supported in the package is a slit geometry. This is initialised using the <i>slit</i> object, which takes a DFT object along with the types of each wall as required arguments."
   ]
  },
  {
   "cell_type": "code",
   "execution_count": 15,
   "metadata": {},
   "outputs": [
    {
     "name": "stdout",
     "output_type": "stream",
     "text": [
      "Geometry: Slit\n",
      "Width: 50.0 * diameter of a fluid particle\n",
      "Left wall type: Hard Wall\n",
      "Right wall type: Hard Wall\n",
      "Picard mixing parameter: 0.1\n",
      "Ng move frequency: 10 picard moves\n",
      "Output local compressibility: False\n",
      "Output local thermal susceptibility: False\n"
     ]
    }
   ],
   "source": [
    "# Define a DFT object\n",
    "DFT = minimise.DFT(bulk_density=density,\n",
    "                   temperature=1.0,\n",
    "                   fluid_type='HS')\n",
    "\n",
    "# Define slit object\n",
    "slit = minimise.slit(DFT,\n",
    "                     left_wall_type = 'HW',\n",
    "                     right_wall_type = 'HW')\n",
    "\n",
    "# Print information about object\n",
    "slit.information()"
   ]
  },
  {
   "cell_type": "markdown",
   "metadata": {},
   "source": [
    "Just as with the other supported geometries, information about the object can be found using the <i>information</i> method, whilst the equilibrium density profile is found using the <i>minimise</i> method. The equilibrium density profile can be plotted using the <i>plot</i> method."
   ]
  },
  {
   "cell_type": "code",
   "execution_count": 16,
   "metadata": {},
   "outputs": [
    {
     "name": "stdout",
     "output_type": "stream",
     "text": [
      "Convergence achieved in 76 attempts.\n"
     ]
    },
    {
     "data": {
      "image/png": "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\n",
      "text/plain": [
       "<Figure size 432x288 with 1 Axes>"
      ]
     },
     "metadata": {
      "needs_background": "light"
     },
     "output_type": "display_data"
    }
   ],
   "source": [
    "slit.minimise()\n",
    "slit.plot()"
   ]
  },
  {
   "cell_type": "markdown",
   "metadata": {},
   "source": [
    "The numerical consistency can then be calculated using the <i>adsorption_sum_rule</i> and <i>contact_sum_rule</i> as before. More information about the form of the contact sum rule for a slit can be found in <a href = https://doi.org/10.1103/PhysRevE.86.031601>this paper</a>."
   ]
  },
  {
   "cell_type": "code",
   "execution_count": 17,
   "metadata": {},
   "outputs": [
    {
     "name": "stdout",
     "output_type": "stream",
     "text": [
      "\n",
      "--------------------------------------------\n",
      "Adsorption Sum Rule Results:\n",
      "Gamma/A = 0.1720204877\n",
      "-dgamma/dmu = 0.1726332703\n",
      "Relative error = 0.0035622654\n",
      "--------------------------------------------\n",
      "\n",
      "----------------------------------------------------\n",
      "Left Wall = -0.00000000000000\n",
      "Right Wall = -0.00000000000000\n",
      "Relative Error = 0.00000000000000\n",
      "------------------------------------------------------\n"
     ]
    }
   ],
   "source": [
    "slit.adsorption_sum_rule()\n",
    "slit.contact_sum_rule()"
   ]
  },
  {
   "cell_type": "markdown",
   "metadata": {},
   "source": [
    "As in all other supported geometries, the adsorption sum rule is satisfied to at least three decimal places, whilst the contact sum rule is satisfied to far more.\n",
    "\n",
    "<h3>Up Next</h3>\n",
    "Within this tutorial, the abilities of the package with respect to hard-sphere fluids and hard walls/solutes has been outlined. In the next tutorial, we will consider the abilities of the package to represent Lennard-Jones fluids in each of the geomeries above, in addition to considering attractive wall/solute-fluid interactions."
   ]
  }
 ],
 "metadata": {
  "kernelspec": {
   "display_name": "Python 3",
   "language": "python",
   "name": "python3"
  },
  "language_info": {
   "codemirror_mode": {
    "name": "ipython",
    "version": 3
   },
   "file_extension": ".py",
   "mimetype": "text/x-python",
   "name": "python",
   "nbconvert_exporter": "python",
   "pygments_lexer": "ipython3",
   "version": "3.7.6"
  }
 },
 "nbformat": 4,
 "nbformat_minor": 4
}
